{
 "cells": [
  {
   "cell_type": "code",
   "execution_count": null,
   "metadata": {},
   "outputs": [],
   "source": [
    "import numpy as np\n",
    "from matplotlib import  pyplot as plt"
   ]
  },
  {
   "cell_type": "code",
   "execution_count": null,
   "metadata": {},
   "outputs": [],
   "source": [
    "def expand_point(point, top, right, bottom, left, azimuth=0):\n",
    "    \"\"\"延展一个点为矩形\"\"\"\n",
    "    points = np.array(\n",
    "        [\n",
    "            (-left, -bottom),\n",
    "            (right, -bottom),\n",
    "            (right, top),\n",
    "            (-left, top),\n",
    "        ]\n",
    "    )\n",
    "    if azimuth == 0:\n",
    "        return points + point\n",
    "    rotation_matrix = np.array(\n",
    "        [[np.cos(azimuth), -np.sin(azimuth)], [np.sin(azimuth), np.cos(azimuth)]]\n",
    "    )\n",
    "    return np.dot(points, rotation_matrix.T) + point\n"
   ]
  },
  {
   "cell_type": "code",
   "execution_count": null,
   "metadata": {},
   "outputs": [],
   "source": [
    "point = (5, 5)\n",
    "top=5\n",
    "right=2\n",
    "bottom=4\n",
    "left=5\n",
    "\n",
    "points = expand_point(point=point, top=top, right=right, bottom=bottom, left=left)\n",
    "\n",
    "plt.axis(\"equal\")\n",
    "plt.scatter(*point)\n",
    "plt.plot(*zip(*points))\n",
    "plt.show()"
   ]
  },
  {
   "cell_type": "code",
   "execution_count": null,
   "metadata": {},
   "outputs": [],
   "source": [
    "point = (5, 5)\n",
    "top=5\n",
    "right=2\n",
    "bottom=4\n",
    "left=5\n",
    "azimuth=np.pi / 6\n",
    "\n",
    "points = expand_point(point=point, top=top, right=right, bottom=bottom, left=left, azimuth=azimuth)\n",
    "\n",
    "plt.axis(\"equal\")\n",
    "plt.scatter(*point)\n",
    "plt.plot(*zip(*points))\n",
    "plt.show()"
   ]
  }
 ],
 "metadata": {
  "kernelspec": {
   "display_name": "dxf",
   "language": "python",
   "name": "python3"
  },
  "language_info": {
   "codemirror_mode": {
    "name": "ipython",
    "version": 3
   },
   "file_extension": ".py",
   "mimetype": "text/x-python",
   "name": "python",
   "nbconvert_exporter": "python",
   "pygments_lexer": "ipython3",
   "version": "3.12.4"
  }
 },
 "nbformat": 4,
 "nbformat_minor": 2
}
