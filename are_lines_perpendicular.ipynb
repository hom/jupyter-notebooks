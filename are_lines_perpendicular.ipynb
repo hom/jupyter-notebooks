{
 "cells": [
  {
   "cell_type": "code",
   "execution_count": null,
   "metadata": {},
   "outputs": [],
   "source": [
    "from matplotlib import pyplot as plt"
   ]
  },
  {
   "cell_type": "code",
   "execution_count": null,
   "metadata": {},
   "outputs": [],
   "source": [
    "def are_lines_perpendicular(point1, point2, point3, point4):\n",
    "    \"\"\"\n",
    "    判断两条直线是否垂直\n",
    "    \"\"\"\n",
    "    x1, y1 = point1[0], point1[1]\n",
    "    x2, y2 = point2[0], point2[1]\n",
    "    x3, y3 = point3[0], point3[1]\n",
    "    x4, y4 = point4[0], point4[1]\n",
    "\n",
    "    # 计算两条直线的斜率\n",
    "    if x1 == x2:\n",
    "        return y3 == y4\n",
    "\n",
    "    if y1 == y2:\n",
    "        return x3 == x4\n",
    "\n",
    "    slope1 = (y2 - y1) / (x2 - x1)\n",
    "    slope2 = (y4 - y3) / (x4 - x3)\n",
    "\n",
    "    # 判断两条直线的斜率乘积是否等于 -1\n",
    "    return slope1 * slope2 == -1"
   ]
  },
  {
   "cell_type": "code",
   "execution_count": null,
   "metadata": {},
   "outputs": [],
   "source": [
    "point1 = (1, 2)\n",
    "point2 = (1, 4)\n",
    "point3 = (1, 2)\n",
    "point4 = (3, 2)\n",
    "\n",
    "plt.plot(*zip(*[point1, point2]))\n",
    "plt.plot(*zip(*[point3, point4]))\n",
    "plt.show()\n",
    "\n",
    "print(are_lines_perpendicular(point1, point2, point3, point4))"
   ]
  },
  {
   "cell_type": "code",
   "execution_count": null,
   "metadata": {},
   "outputs": [],
   "source": [
    "point1 = (1, 2)\n",
    "point2 = (1, 4)\n",
    "point3 = (1, 2)\n",
    "point4 = (3, 3)\n",
    "\n",
    "plt.plot(*zip(*[point1, point2]))\n",
    "plt.plot(*zip(*[point3, point4]))\n",
    "plt.show()\n",
    "\n",
    "print(are_lines_perpendicular(point1, point2, point3, point4))"
   ]
  },
  {
   "cell_type": "code",
   "execution_count": null,
   "metadata": {},
   "outputs": [],
   "source": [
    "point1 = (1, 2)\n",
    "point2 = (4, 2)\n",
    "point3 = (1, 2)\n",
    "point4 = (1, 4)\n",
    "\n",
    "plt.plot(*zip(*[point1, point2]))\n",
    "plt.plot(*zip(*[point3, point4]))\n",
    "plt.show()\n",
    "\n",
    "print(are_lines_perpendicular(point1, point2, point3, point4))"
   ]
  }
 ],
 "metadata": {
  "kernelspec": {
   "display_name": "dxf",
   "language": "python",
   "name": "python3"
  },
  "language_info": {
   "codemirror_mode": {
    "name": "ipython",
    "version": 3
   },
   "file_extension": ".py",
   "mimetype": "text/x-python",
   "name": "python",
   "nbconvert_exporter": "python",
   "pygments_lexer": "ipython3",
   "version": "3.12.4"
  }
 },
 "nbformat": 4,
 "nbformat_minor": 2
}
