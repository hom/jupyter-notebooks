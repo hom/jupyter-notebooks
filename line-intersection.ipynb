{
 "cells": [
  {
   "cell_type": "code",
   "execution_count": null,
   "metadata": {},
   "outputs": [],
   "source": [
    "from matplotlib import pyplot as plt\n",
    "from shapely import Point, Polygon, LinearRing, LineString"
   ]
  },
  {
   "cell_type": "code",
   "execution_count": null,
   "metadata": {},
   "outputs": [],
   "source": [
    "a = LinearRing([(0, 0), (1, 1), (1, 0)])\n",
    "b = LinearRing([(1, 1), (1, 2), (2, 1)])\n",
    "plt.plot(*a.xy, label='a')\n",
    "plt.plot(*b.xy, label='b')\n",
    "plt.plot(*a.intersection(b).xy, label='a ∩ b')\n",
    "plt.legend()\n",
    "plt.show()\n",
    "print(a.intersects(b))\n",
    "print(a.disjoint(b))"
   ]
  }
 ],
 "metadata": {
  "kernelspec": {
   "display_name": "dxf",
   "language": "python",
   "name": "python3"
  },
  "language_info": {
   "codemirror_mode": {
    "name": "ipython",
    "version": 3
   },
   "file_extension": ".py",
   "mimetype": "text/x-python",
   "name": "python",
   "nbconvert_exporter": "python",
   "pygments_lexer": "ipython3",
   "version": "3.12.4"
  }
 },
 "nbformat": 4,
 "nbformat_minor": 2
}
