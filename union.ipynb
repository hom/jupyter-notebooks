{
 "cells": [
  {
   "cell_type": "code",
   "execution_count": null,
   "metadata": {},
   "outputs": [],
   "source": [
    "from shapely import Polygon\n",
    "from matplotlib import pyplot as plt"
   ]
  },
  {
   "cell_type": "code",
   "execution_count": null,
   "metadata": {},
   "outputs": [],
   "source": [
    "points1 = [(0, 0), (10, 0), (10, 10), (0, 10)]\n",
    "points2 = [(5, 5), ( 15, 5), (15, 15), (5, 15)]\n",
    "\n",
    "polygon1 = Polygon(points1)\n",
    "polygon2 = Polygon(points2)\n",
    "\n",
    "print(polygon1.intersects(polygon2))\n",
    "print(polygon1.disjoint(polygon2))\n",
    "\n",
    "unions = polygon1.union(polygon2)\n",
    "print(unions)\n",
    "\n",
    "plt.plot(*zip(*list((polygon1.exterior.coords))))\n",
    "plt.plot(*zip(*list((polygon2.exterior.coords))))\n",
    "plt.show()"
   ]
  },
  {
   "cell_type": "code",
   "execution_count": null,
   "metadata": {},
   "outputs": [],
   "source": [
    "plt.plot(*zip(*list((unions.exterior.coords))))\n",
    "plt.show()"
   ]
  }
 ],
 "metadata": {
  "kernelspec": {
   "display_name": "dxf",
   "language": "python",
   "name": "python3"
  },
  "language_info": {
   "codemirror_mode": {
    "name": "ipython",
    "version": 3
   },
   "file_extension": ".py",
   "mimetype": "text/x-python",
   "name": "python",
   "nbconvert_exporter": "python",
   "pygments_lexer": "ipython3",
   "version": "3.12.4"
  }
 },
 "nbformat": 4,
 "nbformat_minor": 2
}
