{
 "cells": [
  {
   "cell_type": "code",
   "execution_count": null,
   "metadata": {},
   "outputs": [],
   "source": [
    "from shapely import Polygon, LineString\n",
    "from matplotlib import pyplot as plt"
   ]
  },
  {
   "cell_type": "code",
   "execution_count": null,
   "metadata": {},
   "outputs": [],
   "source": [
    "points = [(1, 1), (4, 1), (4, 8), (1, 8)]\n",
    "polygon = Polygon(points)\n",
    "plt.plot(*zip(*list(polygon.exterior.coords)))\n",
    "plt.show()"
   ]
  },
  {
   "cell_type": "code",
   "execution_count": null,
   "metadata": {},
   "outputs": [],
   "source": [
    "plt.plot(*zip(*list(polygon.exterior.coords)), 'g')\n",
    "\n",
    "line = LineString([(2, 1), (3, 1)])\n",
    "plt.plot(*zip(*list(line.coords)), 'r')\n",
    "print(\"intersects: \", line.intersects(polygon))\n",
    "print(\"contains: \", line.contains(polygon))\n",
    "print(\"covers: \", line.covers(polygon))\n",
    "print(\"intersection: \", line.intersection(polygon))\n",
    "print(\"within: \", line.within(polygon))\n"
   ]
  },
  {
   "cell_type": "code",
   "execution_count": null,
   "metadata": {},
   "outputs": [],
   "source": [
    "plt.plot(*zip(*list(polygon.exterior.coords)), 'g')\n",
    "\n",
    "line = LineString([(2, 5), (3, 5)])\n",
    "plt.plot(*zip(*list(line.coords)), 'r')\n",
    "print(\"intersects: \", line.intersects(polygon))\n",
    "print(\"contains: \", line.contains(polygon))\n",
    "print(\"covers: \", line.covers(polygon))\n",
    "print(\"intersection: \", line.intersection(polygon))\n",
    "print(\"within: \", line.within(polygon))"
   ]
  },
  {
   "cell_type": "code",
   "execution_count": null,
   "metadata": {},
   "outputs": [],
   "source": [
    "plt.plot(*zip(*list(polygon.exterior.coords)), 'g')\n",
    "\n",
    "line = LineString([(1, 5), (4, 5)])\n",
    "plt.plot(*zip(*list(line.coords)), 'r')\n",
    "print(\"intersects: \", line.intersects(polygon))\n",
    "print(\"contains: \", line.contains(polygon))\n",
    "print(\"covers: \", line.covers(polygon))\n",
    "print(\"intersection: \", line.intersection(polygon))\n",
    "print(\"within: \", line.within(polygon))"
   ]
  },
  {
   "cell_type": "code",
   "execution_count": null,
   "metadata": {},
   "outputs": [],
   "source": [
    "plt.plot(*zip(*list(polygon.exterior.coords)), 'g')\n",
    "\n",
    "line = LineString([(0, 5), (5, 5)])\n",
    "plt.plot(*zip(*list(line.coords)), 'r')\n",
    "print(\"intersects: \", line.intersects(polygon))\n",
    "print(\"contains: \", line.contains(polygon))\n",
    "print(\"covers: \", line.covers(polygon))\n",
    "print(\"intersection: \", line.intersection(polygon))\n",
    "print(\"within: \", line.within(polygon))"
   ]
  }
 ],
 "metadata": {
  "kernelspec": {
   "display_name": "dxf",
   "language": "python",
   "name": "python3"
  },
  "language_info": {
   "codemirror_mode": {
    "name": "ipython",
    "version": 3
   },
   "file_extension": ".py",
   "mimetype": "text/x-python",
   "name": "python",
   "nbconvert_exporter": "python",
   "pygments_lexer": "ipython3",
   "version": "3.12.4"
  }
 },
 "nbformat": 4,
 "nbformat_minor": 2
}
