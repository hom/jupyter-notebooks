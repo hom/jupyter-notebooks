{
 "cells": [
  {
   "cell_type": "code",
   "execution_count": null,
   "metadata": {},
   "outputs": [],
   "source": [
    "from shapely import Point, Polygon, MultiPolygon\n",
    "from shapely.ops import unary_union\n",
    "from matplotlib import pyplot as plt"
   ]
  },
  {
   "cell_type": "code",
   "execution_count": null,
   "metadata": {},
   "outputs": [],
   "source": [
    "polygons = [Point(i, 0).buffer(0.7) for i in range(5)]\n",
    "print(polygons)\n",
    "plt.axis('equal')\n",
    "for polygon in polygons:\n",
    "    plt.plot(*polygon.exterior.xy)\n",
    "plt.show()"
   ]
  },
  {
   "cell_type": "code",
   "execution_count": null,
   "metadata": {},
   "outputs": [],
   "source": [
    "polygon = unary_union(polygons)\n",
    "print(polygon)\n",
    "plt.axis('equal')\n",
    "plt.plot(*polygon.exterior.xy)\n",
    "plt.show()"
   ]
  },
  {
   "cell_type": "code",
   "execution_count": null,
   "metadata": {},
   "outputs": [],
   "source": [
    "polygons = []\n",
    "polygons.extend([Point(i, 0).buffer(0.7) for i in range(5)])\n",
    "polygons.extend([Point(i, 1).buffer(0.5) for i in range(5)])\n",
    "print(polygons)\n",
    "plt.axis('equal')\n",
    "for polygon in polygons:\n",
    "    plt.plot(*polygon.exterior.xy)\n",
    "plt.show()"
   ]
  },
  {
   "cell_type": "code",
   "execution_count": null,
   "metadata": {},
   "outputs": [],
   "source": [
    "polygon = unary_union(polygons)\n",
    "print(polygon)\n",
    "plt.axis('equal')\n",
    "plt.plot(*polygon.exterior.xy)\n",
    "plt.show()"
   ]
  },
  {
   "cell_type": "code",
   "execution_count": null,
   "metadata": {},
   "outputs": [],
   "source": [
    "polygons = []\n",
    "polygons.extend([Point(i, 0).buffer(0.7) for i in range(2)])\n",
    "polygons.extend([Point(i + 3, 0).buffer(0.5) for i in range(1)])\n",
    "polygons.extend([Point(i + 5, 0).buffer(0.6) for i in range(3)])\n",
    "print(polygons)\n",
    "plt.axis('equal')\n",
    "for polygon in polygons:\n",
    "    plt.plot(*polygon.exterior.xy)\n",
    "plt.show()"
   ]
  },
  {
   "cell_type": "code",
   "execution_count": null,
   "metadata": {},
   "outputs": [],
   "source": [
    "representation = unary_union(polygons)\n",
    "print(representation)\n",
    "plt.axis('equal')\n",
    "if isinstance(representation, Polygon):\n",
    "    plt.plot(*representation.exterior.xy)\n",
    "elif isinstance(representation, MultiPolygon):\n",
    "    for polygon in representation.geoms:\n",
    "        plt.plot(*polygon.exterior.xy)\n",
    "plt.show()"
   ]
  }
 ],
 "metadata": {
  "kernelspec": {
   "display_name": "dxf",
   "language": "python",
   "name": "python3"
  },
  "language_info": {
   "codemirror_mode": {
    "name": "ipython",
    "version": 3
   },
   "file_extension": ".py",
   "mimetype": "text/x-python",
   "name": "python",
   "nbconvert_exporter": "python",
   "pygments_lexer": "ipython3",
   "version": "3.12.4"
  }
 },
 "nbformat": 4,
 "nbformat_minor": 2
}
