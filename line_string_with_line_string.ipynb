{
 "cells": [
  {
   "cell_type": "code",
   "execution_count": null,
   "metadata": {},
   "outputs": [],
   "source": [
    "from shapely import Polygon, LineString\n",
    "from matplotlib import pyplot as plt"
   ]
  },
  {
   "cell_type": "code",
   "execution_count": null,
   "metadata": {},
   "outputs": [],
   "source": [
    "def get_relation(geometry1, geometry2):\n",
    "    \"\"\"获取关系\"\"\"\n",
    "    print(\"intersects: \", geometry1.intersects(geometry2))\n",
    "    print(\"contains: \", geometry1.contains(geometry2))\n",
    "    print(\"covers: \", geometry1.covers(geometry2))\n",
    "    print(\"intersection: \", geometry1.intersection(geometry2))\n",
    "    print(\"within: \", geometry1.within(geometry2))\n",
    "\n",
    "def render(points1, points2):\n",
    "    \"\"\"绘制\"\"\"\n",
    "    plt.plot(*zip(*points1))\n",
    "    plt.plot(*zip(*points2))\n",
    "    plt.show()"
   ]
  },
  {
   "cell_type": "code",
   "execution_count": null,
   "metadata": {},
   "outputs": [],
   "source": [
    "line1 = LineString([(1, 1), (5, 1)])\n",
    "line2 = LineString([(2, 1), (4, 1)])\n",
    "print(\"line1 -> line2\")\n",
    "get_relation(line1, line2)\n",
    "render(list(line1.coords), list(line2.coords))\n",
    "print(\"line2 -> line\")\n",
    "get_relation(line2, line1)\n"
   ]
  },
  {
   "cell_type": "code",
   "execution_count": null,
   "metadata": {},
   "outputs": [],
   "source": [
    "line1 = LineString([(1, 1), (5, 1)])\n",
    "line2 = LineString([(2, 1), (2, 5)])\n",
    "print(\"line1 -> line2\")\n",
    "get_relation(line1, line2)\n",
    "render(list(line1.coords), list(line2.coords))\n",
    "print(\"line2 -> line\")\n",
    "get_relation(line2, line1)\n"
   ]
  }
 ],
 "metadata": {
  "kernelspec": {
   "display_name": "dxf",
   "language": "python",
   "name": "python3"
  },
  "language_info": {
   "codemirror_mode": {
    "name": "ipython",
    "version": 3
   },
   "file_extension": ".py",
   "mimetype": "text/x-python",
   "name": "python",
   "nbconvert_exporter": "python",
   "pygments_lexer": "ipython3",
   "version": "3.12.4"
  }
 },
 "nbformat": 4,
 "nbformat_minor": 2
}
