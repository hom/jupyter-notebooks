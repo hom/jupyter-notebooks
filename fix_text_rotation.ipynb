{
 "cells": [
  {
   "cell_type": "code",
   "execution_count": null,
   "metadata": {},
   "outputs": [],
   "source": [
    "import math"
   ]
  },
  {
   "cell_type": "code",
   "execution_count": null,
   "metadata": {},
   "outputs": [],
   "source": [
    "def fix_text_rotation(azimuth):\n",
    "    \"\"\"矫正文字的方向\"\"\"\n",
    "    if azimuth <= math.pi / 2:\n",
    "        return azimuth\n",
    "    if azimuth > math.pi / 2 and azimuth <= math.pi:\n",
    "        return azimuth - math.pi\n",
    "    if azimuth > math.pi and azimuth <= math.pi / 2 * 3:\n",
    "        return azimuth - math.pi\n",
    "    if azimuth > math.pi / 2 * 3 and azimuth <= math.pi * 2:\n",
    "        return azimuth - math.pi * 2\n",
    "    if azimuth > math.pi * 2:\n",
    "        return fix_text_rotation(azimuth - math.pi * 2)\n",
    "    return 0\n",
    "\n"
   ]
  },
  {
   "cell_type": "code",
   "execution_count": null,
   "metadata": {},
   "outputs": [],
   "source": [
    "# 0\n",
    "print(math.degrees(fix_text_rotation(0)))\n",
    "# 90\n",
    "print(math.degrees(fix_text_rotation(math.pi / 2)))\n",
    "# 180\n",
    "print(math.degrees(fix_text_rotation(math.pi)))\n",
    "# 270\n",
    "print(math.degrees(fix_text_rotation(math.pi / 2 * 3)))\n",
    "# 360\n",
    "print(math.degrees(fix_text_rotation(math.pi * 2)))\n"
   ]
  },
  {
   "cell_type": "code",
   "execution_count": null,
   "metadata": {},
   "outputs": [],
   "source": [
    "# 30\n",
    "print(math.degrees(fix_text_rotation(math.radians(30))))\n",
    "# 120\n",
    "print(math.degrees(fix_text_rotation(math.radians(120))))\n",
    "# 150\n",
    "print(math.degrees(fix_text_rotation(math.radians(150))))\n",
    "# 210\n",
    "print(math.degrees(fix_text_rotation(math.radians(210))))\n",
    "# 240\n",
    "print(math.degrees(fix_text_rotation(math.radians(240))))\n",
    "# 300\n",
    "print(math.degrees(fix_text_rotation(math.radians(300))))\n",
    "# 350\n",
    "print(math.degrees(fix_text_rotation(math.radians(350))))\n"
   ]
  }
 ],
 "metadata": {
  "kernelspec": {
   "display_name": "dxf",
   "language": "python",
   "name": "python3"
  },
  "language_info": {
   "codemirror_mode": {
    "name": "ipython",
    "version": 3
   },
   "file_extension": ".py",
   "mimetype": "text/x-python",
   "name": "python",
   "nbconvert_exporter": "python",
   "pygments_lexer": "ipython3",
   "version": "3.12.4"
  }
 },
 "nbformat": 4,
 "nbformat_minor": 2
}
