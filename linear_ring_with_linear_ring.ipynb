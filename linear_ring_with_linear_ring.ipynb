{
 "cells": [
  {
   "cell_type": "code",
   "execution_count": null,
   "metadata": {},
   "outputs": [],
   "source": [
    "from shapely import Polygon, LinearRing\n",
    "from matplotlib import pyplot as plt"
   ]
  },
  {
   "cell_type": "code",
   "execution_count": null,
   "metadata": {},
   "outputs": [],
   "source": [
    "def get_relation(geometry1, geometry2):\n",
    "    \"\"\"获取关系\"\"\"\n",
    "    print(\"contains: \", geometry1.contains(geometry2))\n",
    "    print(\"contains_properly: \", geometry1.contains_properly(geometry2))\n",
    "    print(\"covered_by: \", geometry1.covered_by(geometry2))\n",
    "    print(\"covers: \", geometry1.covers(geometry2))\n",
    "    print(\"crosses: \", geometry1.crosses(geometry2))\n",
    "    print(\"disjoint: \", geometry1.disjoint(geometry2))\n",
    "    print(\"intersection: \", geometry1.intersection(geometry2))\n",
    "    print(\"intersects: \", geometry1.intersects(geometry2))\n",
    "    print(\"within: \", geometry1.within(geometry2))\n",
    "\n",
    "def render(points1, points2):\n",
    "    \"\"\"绘制\"\"\"\n",
    "    plt.plot(*zip(*points1))\n",
    "    plt.plot(*zip(*points2))\n",
    "    plt.show()"
   ]
  },
  {
   "cell_type": "code",
   "execution_count": null,
   "metadata": {},
   "outputs": [],
   "source": [
    "linear_ring1 = LinearRing([(0, 0), (10, 0), (10, 10), (0, 10)])\n",
    "linear_ring2 = LinearRing([(2, 1), (3, 1), (3, 3), (2, 3)])\n",
    "print(\"linear_ring1 -> linear_ring2\")\n",
    "get_relation(linear_ring1, linear_ring2)\n",
    "render(list(linear_ring1.coords), list(linear_ring2.coords))\n",
    "print(\"linear_ring2 -> line\")\n",
    "get_relation(linear_ring2, linear_ring1)\n"
   ]
  },
  {
   "cell_type": "code",
   "execution_count": null,
   "metadata": {},
   "outputs": [],
   "source": [
    "linear_ring1 = LinearRing([(0, 0), (10, 0), (10, 10), (0, 10)])\n",
    "linear_ring2 = LinearRing([(2, 2), (3, 2), (3, 3), (2, 3)])\n",
    "print(\"linear_ring1 -> linear_ring2\")\n",
    "get_relation(linear_ring1, linear_ring2)\n",
    "render(list(linear_ring1.coords), list(linear_ring2.coords))\n",
    "print(\"linear_ring2 -> line\")\n",
    "get_relation(linear_ring2, linear_ring1)\n"
   ]
  },
  {
   "cell_type": "code",
   "execution_count": null,
   "metadata": {},
   "outputs": [],
   "source": [
    "linear_ring1 = LinearRing([(0, 0), (10, 0), (10, 10), (0, 10)])\n",
    "linear_ring2 = LinearRing([(2, 2), (3, 2), (3, 10), (2, 10)])\n",
    "print(\"linear_ring1 -> linear_ring2\")\n",
    "get_relation(linear_ring1, linear_ring2)\n",
    "render(list(linear_ring1.coords), list(linear_ring2.coords))\n",
    "print(\"linear_ring2 -> line\")\n",
    "get_relation(linear_ring2, linear_ring1)\n"
   ]
  },
  {
   "cell_type": "code",
   "execution_count": null,
   "metadata": {},
   "outputs": [],
   "source": [
    "linear_ring1 = LinearRing([(0, 0), (10, 0), (10, 10), (0, 10)])\n",
    "linear_ring2 = LinearRing([(2, 2), (3, 2), (3, 10), (2, 4)])\n",
    "print(\"linear_ring1 -> linear_ring2\")\n",
    "get_relation(linear_ring1, linear_ring2)\n",
    "render(list(linear_ring1.coords), list(linear_ring2.coords))\n",
    "print(\"linear_ring2 -> line\")\n",
    "get_relation(linear_ring2, linear_ring1)\n"
   ]
  }
 ],
 "metadata": {
  "kernelspec": {
   "display_name": "dxf",
   "language": "python",
   "name": "python3"
  },
  "language_info": {
   "codemirror_mode": {
    "name": "ipython",
    "version": 3
   },
   "file_extension": ".py",
   "mimetype": "text/x-python",
   "name": "python",
   "nbconvert_exporter": "python",
   "pygments_lexer": "ipython3",
   "version": "3.12.4"
  }
 },
 "nbformat": 4,
 "nbformat_minor": 2
}
