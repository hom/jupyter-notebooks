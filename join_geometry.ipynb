{
 "cells": [
  {
   "cell_type": "code",
   "execution_count": null,
   "metadata": {},
   "outputs": [],
   "source": [
    "from shapely import LineString, LinearRing, Polygon\n",
    "from matplotlib import pyplot as plt"
   ]
  },
  {
   "cell_type": "code",
   "execution_count": null,
   "metadata": {},
   "outputs": [],
   "source": [
    "line = LineString([(0, 10), (100, 10)])\n",
    "linear_ring = LinearRing([(25, 0), (50, 0), (50, 50), (25, 50)])\n",
    "polygon = Polygon([(75, 0), (80, 0), (80, 80), (75, 80)])\n",
    "\n",
    "plt.axis(\"equal\")\n",
    "plt.plot(*line.xy, label=\"LineString\")\n",
    "plt.plot(*linear_ring.xy, label=\"LinearRing\")\n",
    "plt.plot(*polygon.exterior.xy, label=\"Polygon\")\n",
    "plt.show()"
   ]
  },
  {
   "cell_type": "code",
   "execution_count": null,
   "metadata": {},
   "outputs": [],
   "source": [
    "# 添加合并后的线\n",
    "merged_line = line.union(linear_ring).union(polygon)\n",
    "print(merged_line)\n",
    "# plt.axis(\"equal\")\n",
    "# plt.plot(*merged_line.xy)\n",
    "# plt.show()"
   ]
  },
  {
   "cell_type": "code",
   "execution_count": null,
   "metadata": {},
   "outputs": [],
   "source": [
    "# 添加合并后的线\n",
    "merged_line = line.difference(linear_ring).difference(polygon)\n",
    "print(merged_line)\n",
    "# plt.axis(\"equal\")\n",
    "# plt.plot(*merged_line.xy)\n",
    "# plt.show()"
   ]
  },
  {
   "cell_type": "code",
   "execution_count": null,
   "metadata": {},
   "outputs": [],
   "source": [
    "# 添加合并后的线\n",
    "merged_line = line.symmetric_difference(linear_ring).symmetric_difference(polygon)\n",
    "print(merged_line)\n",
    "# plt.axis(\"equal\")\n",
    "# plt.plot(*merged_line.xy)\n",
    "# plt.show()"
   ]
  }
 ],
 "metadata": {
  "kernelspec": {
   "display_name": "dxf",
   "language": "python",
   "name": "python3"
  },
  "language_info": {
   "codemirror_mode": {
    "name": "ipython",
    "version": 3
   },
   "file_extension": ".py",
   "mimetype": "text/x-python",
   "name": "python",
   "nbconvert_exporter": "python",
   "pygments_lexer": "ipython3",
   "version": "3.12.4"
  }
 },
 "nbformat": 4,
 "nbformat_minor": 2
}
