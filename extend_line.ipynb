{
 "cells": [
  {
   "cell_type": "code",
   "execution_count": null,
   "metadata": {},
   "outputs": [],
   "source": [
    "from matplotlib import pyplot as plt\n",
    "import numpy as np"
   ]
  },
  {
   "cell_type": "code",
   "execution_count": null,
   "metadata": {},
   "outputs": [],
   "source": [
    "def extend_line(point1, point2, length):\n",
    "    \"\"\"\n",
    "    延长一条线到指定的长度\n",
    "    \n",
    "    :param point1: 原始 LineString 对象\n",
    "    :param point1: 原始 LineString 对象\n",
    "    :param length: 要延长的长度\n",
    "    :return: 扩展后的 LineString 对象\n",
    "    \"\"\"\n",
    "    \n",
    "    start, end = np.array(point1), np.array(point2)\n",
    "    \n",
    "    # 计算方向向量\n",
    "    direction = end - start\n",
    "    direction_norm = np.linalg.norm(direction)\n",
    "    direction_unit = direction / direction_norm\n",
    "    \n",
    "    new_start = start - direction_unit * length\n",
    "    # 计算新端点\n",
    "    new_end = end + direction_unit * length\n",
    "    \n",
    "    return new_start, new_end"
   ]
  },
  {
   "cell_type": "code",
   "execution_count": null,
   "metadata": {},
   "outputs": [],
   "source": [
    "point1 = (1, 2)\n",
    "point2 = (5, 4)\n",
    "length = 10\n",
    "start, end = extend_line(point1=point1, point2=point2, length=length)\n",
    "\n",
    "plt.scatter(*point1)\n",
    "plt.scatter(*point2)\n",
    "plt.plot([point1[0], point2[0]], [point1[1], point2[1]])\n",
    "plt.scatter(*start)\n",
    "plt.scatter(*end)\n",
    "plt.show()"
   ]
  },
  {
   "cell_type": "code",
   "execution_count": null,
   "metadata": {},
   "outputs": [],
   "source": [
    "point1 = (5, 4)\n",
    "point2 = (1, 2)\n",
    "length = 10\n",
    "start, end = extend_line(point1=point1, point2=point2, length=length)\n",
    "\n",
    "plt.scatter(*point1)\n",
    "plt.scatter(*point2)\n",
    "plt.plot([point1[0], point2[0]], [point1[1], point2[1]])\n",
    "plt.scatter(*start)\n",
    "plt.scatter(*end)\n",
    "plt.show()"
   ]
  }
 ],
 "metadata": {
  "kernelspec": {
   "display_name": "dxf",
   "language": "python",
   "name": "python3"
  },
  "language_info": {
   "codemirror_mode": {
    "name": "ipython",
    "version": 3
   },
   "file_extension": ".py",
   "mimetype": "text/x-python",
   "name": "python",
   "nbconvert_exporter": "python",
   "pygments_lexer": "ipython3",
   "version": "3.12.4"
  }
 },
 "nbformat": 4,
 "nbformat_minor": 2
}
