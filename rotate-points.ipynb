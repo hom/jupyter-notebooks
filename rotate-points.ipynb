{
 "cells": [
  {
   "cell_type": "code",
   "execution_count": null,
   "metadata": {},
   "outputs": [],
   "source": [
    "from matplotlib import pyplot as plt\n",
    "import math"
   ]
  },
  {
   "cell_type": "code",
   "execution_count": null,
   "metadata": {},
   "outputs": [],
   "source": [
    "plt.plot([1, 2, 3, 4], [1, 4, 9, 16])\n",
    "plt.show()"
   ]
  },
  {
   "cell_type": "code",
   "execution_count": null,
   "metadata": {},
   "outputs": [],
   "source": [
    "# 计算旋转后的点\n",
    "raw_points = [(0, 0), (2, 4)]\n",
    "plt.plot([x for x, y in raw_points], [y for x, y in raw_points], 'b')\n",
    "# 计算旋转后的点\n",
    "angle = 25\n",
    "# 顺时针旋转\n",
    "rotated_points = [(x * math.cos(angle) - y * math.sin(angle), x * math.sin(angle) + y * math.cos(angle)) for x, y in raw_points]\n",
    "plt.plot([x for x, y in rotated_points], [y for x, y in rotated_points], 'r')\n",
    "# 逆时针旋转\n",
    "rotated_points = [(x * math.cos(-angle) - y * math.sin(-angle), x * math.sin(-angle) + y * math.cos(-angle)) for x, y in raw_points]\n",
    "plt.plot([x for x, y in rotated_points], [y for x, y in rotated_points], 'y')\n",
    "plt.show()\n"
   ]
  }
 ],
 "metadata": {
  "kernelspec": {
   "display_name": "dxf",
   "language": "python",
   "name": "python3"
  },
  "language_info": {
   "codemirror_mode": {
    "name": "ipython",
    "version": 3
   },
   "file_extension": ".py",
   "mimetype": "text/x-python",
   "name": "python",
   "nbconvert_exporter": "python",
   "pygments_lexer": "ipython3",
   "version": "3.12.4"
  }
 },
 "nbformat": 4,
 "nbformat_minor": 2
}
