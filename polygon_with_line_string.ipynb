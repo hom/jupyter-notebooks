{
 "cells": [
  {
   "cell_type": "code",
   "execution_count": null,
   "metadata": {},
   "outputs": [],
   "source": [
    "from shapely import Polygon, LineString\n",
    "from matplotlib import pyplot as plt"
   ]
  },
  {
   "cell_type": "code",
   "execution_count": null,
   "metadata": {},
   "outputs": [],
   "source": [
    "points = [(1, 1), (4, 1), (4, 8), (1, 8)]\n",
    "polygon = Polygon(points)\n",
    "plt.plot(*zip(*list(polygon.exterior.coords)))\n",
    "plt.show()"
   ]
  },
  {
   "cell_type": "code",
   "execution_count": null,
   "metadata": {},
   "outputs": [],
   "source": [
    "plt.plot(*zip(*list(polygon.exterior.coords)), 'g')\n",
    "\n",
    "line = [(2, 1), (3, 1)]\n",
    "plt.plot(*zip(*line), 'r')\n",
    "print(\"intersects: \", polygon.intersects(LineString(line)))\n",
    "print(\"contains: \", polygon.contains(LineString(line)))\n",
    "print(\"covers: \", polygon.covers(LineString(line)))\n",
    "print(\"intersection: \", polygon.intersection(LineString(line)))\n",
    "print(\"within: \", polygon.within(LineString(line)))\n"
   ]
  },
  {
   "cell_type": "code",
   "execution_count": null,
   "metadata": {},
   "outputs": [],
   "source": [
    "plt.plot(*zip(*list(polygon.exterior.coords)), 'g')\n",
    "\n",
    "line = [(2, 5), (3, 5)]\n",
    "plt.plot(*zip(*line), 'r')\n",
    "print(\"intersects: \", polygon.intersects(LineString(line)))\n",
    "print(\"contains: \", polygon.contains(LineString(line)))\n",
    "print(\"covers: \", polygon.covers(LineString(line)))\n",
    "print(\"intersection: \", polygon.intersection(LineString(line)))"
   ]
  },
  {
   "cell_type": "code",
   "execution_count": null,
   "metadata": {},
   "outputs": [],
   "source": [
    "plt.plot(*zip(*list(polygon.exterior.coords)), 'g')\n",
    "\n",
    "line = [(1, 5), (4, 5)]\n",
    "plt.plot(*zip(*line), 'r')\n",
    "print(\"intersects: \", polygon.intersects(LineString(line)))\n",
    "print(\"contains: \", polygon.contains(LineString(line)))\n",
    "print(\"covers: \", polygon.covers(LineString(line)))\n",
    "print(\"intersection: \", polygon.intersection(LineString(line)))"
   ]
  },
  {
   "cell_type": "code",
   "execution_count": null,
   "metadata": {},
   "outputs": [],
   "source": [
    "plt.plot(*zip(*list(polygon.exterior.coords)), 'g')\n",
    "\n",
    "line = [(0, 5), (5, 5)]\n",
    "plt.plot(*zip(*line), 'r')\n",
    "print(\"intersects: \", polygon.intersects(LineString(line)))\n",
    "print(\"contains: \", polygon.contains(LineString(line)))\n",
    "print(\"covers: \", polygon.covers(LineString(line)))\n",
    "print(\"intersection: \", polygon.intersection(LineString(line)))"
   ]
  }
 ],
 "metadata": {
  "kernelspec": {
   "display_name": "dxf",
   "language": "python",
   "name": "python3"
  },
  "language_info": {
   "codemirror_mode": {
    "name": "ipython",
    "version": 3
   },
   "file_extension": ".py",
   "mimetype": "text/x-python",
   "name": "python",
   "nbconvert_exporter": "python",
   "pygments_lexer": "ipython3",
   "version": "3.12.4"
  }
 },
 "nbformat": 4,
 "nbformat_minor": 2
}
