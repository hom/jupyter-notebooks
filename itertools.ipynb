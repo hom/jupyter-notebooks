{
 "cells": [
  {
   "cell_type": "code",
   "execution_count": null,
   "metadata": {},
   "outputs": [],
   "source": [
    "import itertools"
   ]
  },
  {
   "cell_type": "code",
   "execution_count": null,
   "metadata": {},
   "outputs": [],
   "source": [
    "mods = [[1], [3, 4, 5], [[6],[7, 8]], [9, 10]]\n",
    "print(list(itertools.chain(*mods)))\n",
    "mods = [[[1], [2]], [[3], [4]], [[5]]]\n",
    "print(list(itertools.chain(*mods)))"
   ]
  },
  {
   "cell_type": "code",
   "execution_count": null,
   "metadata": {},
   "outputs": [],
   "source": [
    "mods = [[1], [2], [3], [4], [5]]\n",
    "print(list(itertools.combinations(mods, 2)))"
   ]
  },
  {
   "cell_type": "code",
   "execution_count": null,
   "metadata": {},
   "outputs": [],
   "source": [
    "mods1 = [[1], [2], [3], [4], [5]]\n",
    "mods2 = [[6], [7], [8], [9], [0]]\n",
    "print(list(itertools.product(mods1, mods2)))"
   ]
  },
  {
   "cell_type": "code",
   "execution_count": null,
   "metadata": {},
   "outputs": [],
   "source": [
    "mods = [i for i in range(10)]\n",
    "print(mods)\n",
    "print(list(itertools.dropwhile(lambda x: x % 2 == 0, mods)))"
   ]
  },
  {
   "cell_type": "code",
   "execution_count": null,
   "metadata": {},
   "outputs": [],
   "source": [
    "mods = [i for i in range(10)]\n",
    "print(mods)\n",
    "print(list(itertools.pairwise(mods)))\n",
    "print(list(zip(mods, mods[1:])))"
   ]
  },
  {
   "cell_type": "code",
   "execution_count": null,
   "metadata": {},
   "outputs": [],
   "source": [
    "mods = [[1,2], [2,3], [3,4], [4, 2], [5, 2]]\n",
    "print(list(itertools.starmap(pow, mods)))"
   ]
  }
 ],
 "metadata": {
  "kernelspec": {
   "display_name": "dxf",
   "language": "python",
   "name": "python3"
  },
  "language_info": {
   "codemirror_mode": {
    "name": "ipython",
    "version": 3
   },
   "file_extension": ".py",
   "mimetype": "text/x-python",
   "name": "python",
   "nbconvert_exporter": "python",
   "pygments_lexer": "ipython3",
   "version": "3.12.4"
  }
 },
 "nbformat": 4,
 "nbformat_minor": 2
}
