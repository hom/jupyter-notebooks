{
 "cells": [
  {
   "cell_type": "code",
   "execution_count": null,
   "metadata": {},
   "outputs": [],
   "source": [
    "from functools import reduce\n",
    "from shapely import LinearRing, LineString, MultiLineString\n",
    "from matplotlib import pyplot as plt"
   ]
  },
  {
   "cell_type": "code",
   "execution_count": null,
   "metadata": {},
   "outputs": [],
   "source": [
    "groups = [[(36238.55750617712, 20350.0), (36238.55750617712, 18850.0), (33230.60800575846, 18850.0), (33230.60800575846, 20350.0), (36238.55750617712, 20350.0)]]\n",
    "line = [(29050.894059774335, 20350.0, -3826.97785200205), (49535.64546229858, 20350.0, -3826.9778520018954)]\n",
    "plt.axis('equal')\n",
    "for points in groups:\n",
    "    plt.plot(*zip(*points))\n",
    "plt.plot(*zip(*line))\n",
    "plt.show()"
   ]
  },
  {
   "cell_type": "code",
   "execution_count": null,
   "metadata": {},
   "outputs": [],
   "source": [
    "multi_line_string = reduce(\n",
    "    lambda line_string, linear_ring: line_string.difference(linear_ring),\n",
    "    [LinearRing(points) for points in groups],\n",
    "    LineString(line),\n",
    ")\n",
    "print(multi_line_string)\n",
    "if isinstance(multi_line_string, MultiLineString):\n",
    "    for line_string in multi_line_string.geoms:\n",
    "        plt.plot(*zip(*line_string.coords))\n",
    "    plt.show()"
   ]
  },
  {
   "cell_type": "code",
   "execution_count": null,
   "metadata": {},
   "outputs": [],
   "source": [
    "groups = [[(36194.49108718376, 20350.0), (36194.49108718376, 18850.0), (33193.88501391826, 18850.0), (33193.88501391826, 20350.0), (36194.49108718376, 20350.0)], [(30404.64347172824, 20350.0), (30404.64347172824, 21990.0), (30783.21732969102, 21990.0), (30783.21732969102, 20350.0), (30404.64347172824, 20350.0)], [(30970.511764683153, 20350.0), (30970.511764683153, 20500.0), (30185.469132907703, 20500.0), (30185.469132907703, 20350.0), (30970.511764683153, 20350.0)]]\n",
    "plt.axis('equal')\n",
    "for points in groups:\n",
    "    plt.plot(*zip(*points))\n",
    "plt.plot(*zip(*line))\n",
    "\n",
    "plt.show()"
   ]
  },
  {
   "cell_type": "code",
   "execution_count": null,
   "metadata": {},
   "outputs": [],
   "source": [
    "groups = [[(46728.13310824575, 20350.0), (46728.13310824575, 21020.0), (44674.768996033454, 21020.0), (44674.768996033454, 20350.0), (46728.13310824575, 20350.0)], [(36150.42466819039, 20350.0), (36150.42466819039, 18850.0), (33157.16202207807, 18850.0), (33157.16202207807, 20350.0), (36150.42466819039, 20350.0)]]\n",
    "plt.axis('equal')\n",
    "for points in groups:\n",
    "    plt.plot(*zip(*points))\n",
    "plt.plot(*zip(*line))\n",
    "\n",
    "plt.show()"
   ]
  }
 ],
 "metadata": {
  "kernelspec": {
   "display_name": "dxf",
   "language": "python",
   "name": "python3"
  },
  "language_info": {
   "codemirror_mode": {
    "name": "ipython",
    "version": 3
   },
   "file_extension": ".py",
   "mimetype": "text/x-python",
   "name": "python",
   "nbconvert_exporter": "python",
   "pygments_lexer": "ipython3",
   "version": "3.12.4"
  }
 },
 "nbformat": 4,
 "nbformat_minor": 2
}
